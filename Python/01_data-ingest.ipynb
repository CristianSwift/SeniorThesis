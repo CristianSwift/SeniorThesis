{
 "cells": [
  {
   "cell_type": "markdown",
   "metadata": {},
   "source": [
    "# Loading Functions"
   ]
  },
  {
   "cell_type": "code",
   "execution_count": 49,
   "metadata": {
    "scrolled": true
   },
   "outputs": [],
   "source": [
    "# !pip3 install pandas==2.0.0\n",
    "# !pip3 install seaborn\n",
    "# !pip3 install numpy==1.20.3"
   ]
  },
  {
   "cell_type": "code",
   "execution_count": 50,
   "metadata": {},
   "outputs": [],
   "source": [
    "import pandas as pd\n",
    "import numpy as np\n",
    "import seaborn as sns\n",
    "#import cartopy.crs as ccrs\n",
    "#import cartopy.feature as cfeature\n",
    "#from sklearn.linear_model import LinearRegression\n",
    "import matplotlib.pyplot as plt\n",
    "import matplotlib.ticker as mticker\n",
    "import matplotlib.dates as mdates\n",
    "import matplotlib.cbook as cbook\n",
    "#from cartopy.mpl.gridliner import LONGITUDE_FORMATTER, LATITUDE_FORMATTER"
   ]
  },
  {
   "cell_type": "markdown",
   "metadata": {},
   "source": [
    "## Creating Covariable data set\n",
    "### Datetime is in UTC"
   ]
  },
  {
   "cell_type": "code",
   "execution_count": 51,
   "metadata": {},
   "outputs": [
    {
     "data": {
      "text/html": [
       "<div>\n",
       "<style scoped>\n",
       "    .dataframe tbody tr th:only-of-type {\n",
       "        vertical-align: middle;\n",
       "    }\n",
       "\n",
       "    .dataframe tbody tr th {\n",
       "        vertical-align: top;\n",
       "    }\n",
       "\n",
       "    .dataframe thead th {\n",
       "        text-align: right;\n",
       "    }\n",
       "</style>\n",
       "<table border=\"1\" class=\"dataframe\">\n",
       "  <thead>\n",
       "    <tr style=\"text-align: right;\">\n",
       "      <th></th>\n",
       "      <th>date</th>\n",
       "      <th>PopulationName</th>\n",
       "      <th>lat</th>\n",
       "      <th>lon</th>\n",
       "      <th>cell_abundance</th>\n",
       "      <th>biomass</th>\n",
       "      <th>cellquotas</th>\n",
       "      <th>cell_diameter</th>\n",
       "      <th>salin</th>\n",
       "      <th>temp</th>\n",
       "      <th>cruisename</th>\n",
       "      <th>Light_micromolQuanta_m2_s</th>\n",
       "      <th>SiO4</th>\n",
       "      <th>NO3NO2</th>\n",
       "      <th>PO4</th>\n",
       "      <th>Fe</th>\n",
       "      <th>Satellite_CHL</th>\n",
       "      <th>mixed_layer_depth</th>\n",
       "    </tr>\n",
       "  </thead>\n",
       "  <tbody>\n",
       "    <tr>\n",
       "      <th>1</th>\n",
       "      <td>2016-04-20T00:00:00Z</td>\n",
       "      <td>Prochlorococcus</td>\n",
       "      <td>NaN</td>\n",
       "      <td>NaN</td>\n",
       "      <td>253.186148</td>\n",
       "      <td>9.232478116</td>\n",
       "      <td>0.036465179</td>\n",
       "      <td>0.57858</td>\n",
       "      <td>34.67912841</td>\n",
       "      <td>25.74054659</td>\n",
       "      <td>KOK1606</td>\n",
       "      <td>1764.076136</td>\n",
       "      <td>NaN</td>\n",
       "      <td>NaN</td>\n",
       "      <td>NaN</td>\n",
       "      <td>NaN</td>\n",
       "      <td>NaN</td>\n",
       "      <td>26.96643939</td>\n",
       "    </tr>\n",
       "    <tr>\n",
       "      <th>2</th>\n",
       "      <td>2016-04-20T00:00:00Z</td>\n",
       "      <td>Synechococcus</td>\n",
       "      <td>NaN</td>\n",
       "      <td>NaN</td>\n",
       "      <td>1.588988684</td>\n",
       "      <td>0.279172358</td>\n",
       "      <td>0.175691848</td>\n",
       "      <td>1.06425</td>\n",
       "      <td>34.67912841</td>\n",
       "      <td>25.74054659</td>\n",
       "      <td>KOK1606</td>\n",
       "      <td>1764.076136</td>\n",
       "      <td>NaN</td>\n",
       "      <td>NaN</td>\n",
       "      <td>NaN</td>\n",
       "      <td>NaN</td>\n",
       "      <td>NaN</td>\n",
       "      <td>26.96643939</td>\n",
       "    </tr>\n",
       "    <tr>\n",
       "      <th>3</th>\n",
       "      <td>2016-04-20T00:00:00Z</td>\n",
       "      <td>nanoeukaryotes (2-5µm)</td>\n",
       "      <td>NaN</td>\n",
       "      <td>NaN</td>\n",
       "      <td>1.332641539</td>\n",
       "      <td>3.079117581</td>\n",
       "      <td>2.310536998</td>\n",
       "      <td>2.88901</td>\n",
       "      <td>34.67912841</td>\n",
       "      <td>25.74054659</td>\n",
       "      <td>KOK1606</td>\n",
       "      <td>1764.076136</td>\n",
       "      <td>NaN</td>\n",
       "      <td>NaN</td>\n",
       "      <td>NaN</td>\n",
       "      <td>NaN</td>\n",
       "      <td>NaN</td>\n",
       "      <td>26.96643939</td>\n",
       "    </tr>\n",
       "    <tr>\n",
       "      <th>4</th>\n",
       "      <td>2016-04-20T00:00:00Z</td>\n",
       "      <td>picoeukaryotes (&lt; 2µm)</td>\n",
       "      <td>NaN</td>\n",
       "      <td>NaN</td>\n",
       "      <td>1.252646685</td>\n",
       "      <td>0.6065723</td>\n",
       "      <td>0.484232551</td>\n",
       "      <td>1.57653</td>\n",
       "      <td>34.67912841</td>\n",
       "      <td>25.74054659</td>\n",
       "      <td>KOK1606</td>\n",
       "      <td>1764.076136</td>\n",
       "      <td>NaN</td>\n",
       "      <td>NaN</td>\n",
       "      <td>NaN</td>\n",
       "      <td>NaN</td>\n",
       "      <td>NaN</td>\n",
       "      <td>26.96643939</td>\n",
       "    </tr>\n",
       "    <tr>\n",
       "      <th>5</th>\n",
       "      <td>2016-04-20T01:00:00Z</td>\n",
       "      <td>Prochlorococcus</td>\n",
       "      <td>NaN</td>\n",
       "      <td>NaN</td>\n",
       "      <td>262.0994355</td>\n",
       "      <td>10.17540209</td>\n",
       "      <td>0.038822678</td>\n",
       "      <td>0.5928</td>\n",
       "      <td>34.70428621</td>\n",
       "      <td>25.62446552</td>\n",
       "      <td>KOK1606</td>\n",
       "      <td>1450.07931</td>\n",
       "      <td>NaN</td>\n",
       "      <td>NaN</td>\n",
       "      <td>NaN</td>\n",
       "      <td>NaN</td>\n",
       "      <td>NaN</td>\n",
       "      <td>26.96643939</td>\n",
       "    </tr>\n",
       "  </tbody>\n",
       "</table>\n",
       "</div>"
      ],
      "text/plain": [
       "                   date          PopulationName  lat  lon cell_abundance  \\\n",
       "1  2016-04-20T00:00:00Z         Prochlorococcus  NaN  NaN     253.186148   \n",
       "2  2016-04-20T00:00:00Z           Synechococcus  NaN  NaN    1.588988684   \n",
       "3  2016-04-20T00:00:00Z  nanoeukaryotes (2-5µm)  NaN  NaN    1.332641539   \n",
       "4  2016-04-20T00:00:00Z  picoeukaryotes (< 2µm)  NaN  NaN    1.252646685   \n",
       "5  2016-04-20T01:00:00Z         Prochlorococcus  NaN  NaN    262.0994355   \n",
       "\n",
       "       biomass   cellquotas cell_diameter        salin         temp  \\\n",
       "1  9.232478116  0.036465179       0.57858  34.67912841  25.74054659   \n",
       "2  0.279172358  0.175691848       1.06425  34.67912841  25.74054659   \n",
       "3  3.079117581  2.310536998       2.88901  34.67912841  25.74054659   \n",
       "4    0.6065723  0.484232551       1.57653  34.67912841  25.74054659   \n",
       "5  10.17540209  0.038822678        0.5928  34.70428621  25.62446552   \n",
       "\n",
       "  cruisename Light_micromolQuanta_m2_s SiO4 NO3NO2  PO4   Fe Satellite_CHL  \\\n",
       "1    KOK1606               1764.076136  NaN    NaN  NaN  NaN           NaN   \n",
       "2    KOK1606               1764.076136  NaN    NaN  NaN  NaN           NaN   \n",
       "3    KOK1606               1764.076136  NaN    NaN  NaN  NaN           NaN   \n",
       "4    KOK1606               1764.076136  NaN    NaN  NaN  NaN           NaN   \n",
       "5    KOK1606                1450.07931  NaN    NaN  NaN  NaN           NaN   \n",
       "\n",
       "  mixed_layer_depth  \n",
       "1       26.96643939  \n",
       "2       26.96643939  \n",
       "3       26.96643939  \n",
       "4       26.96643939  \n",
       "5       26.96643939  "
      ]
     },
     "execution_count": 51,
     "metadata": {},
     "output_type": "execute_result"
    }
   ],
   "source": [
    "covari_path = '/Users/cristianswift/Desktop/Spring-Quarter-2022-2023/SeniorThesis/data/SeaFlow_covariates.csv'\n",
    "\n",
    "# editing columns naems so that the name of the date columns is just date\n",
    "covari_cols = ['date',\n",
    " 'PopulationName',\n",
    " 'lat',\n",
    " 'lon',\n",
    " 'cell_abundance',\n",
    " 'biomass',\n",
    " 'cellquotas',\n",
    " 'cell_diameter',\n",
    " 'salin',\n",
    " 'temp',\n",
    " 'cruisename',\n",
    " 'Light_micromolQuanta_m2_s',\n",
    " 'SiO4',\n",
    " 'NO3NO2',\n",
    " 'PO4',\n",
    " 'Fe',\n",
    " 'Satellite_CHL',\n",
    " 'mixed_layer_depth']\n",
    "\n",
    "#Reading in the csv \n",
    "covari = pd.read_csv(covari_path, names= covari_cols,\n",
    "                     parse_dates=[0], index_col = [0],\n",
    "                    na_values=\"NaN\")\n",
    "covari = covari.reset_index() #wanting date to not be in the index for better usability\n",
    "\n",
    "covari = covari.tail(-1) # getting rid of the first row since it has the column names repeated\n",
    "#taking a small peak at the data\n",
    "covari.head(5)"
   ]
  },
  {
   "cell_type": "markdown",
   "metadata": {},
   "source": [
    "### For N nutrients, only about 1/10th of the data is not null"
   ]
  },
  {
   "cell_type": "markdown",
   "metadata": {},
   "source": [
    "## Creating Real Time data set that includes CMAP and Underway data"
   ]
  },
  {
   "cell_type": "markdown",
   "metadata": {},
   "source": [
    "### Loading in realtime data that has colocalized CMAP features"
   ]
  },
  {
   "cell_type": "code",
   "execution_count": 52,
   "metadata": {
    "scrolled": true
   },
   "outputs": [
    {
     "data": {
      "text/html": [
       "<div>\n",
       "<style scoped>\n",
       "    .dataframe tbody tr th:only-of-type {\n",
       "        vertical-align: middle;\n",
       "    }\n",
       "\n",
       "    .dataframe tbody tr th {\n",
       "        vertical-align: top;\n",
       "    }\n",
       "\n",
       "    .dataframe thead th {\n",
       "        text-align: right;\n",
       "    }\n",
       "</style>\n",
       "<table border=\"1\" class=\"dataframe\">\n",
       "  <thead>\n",
       "    <tr style=\"text-align: right;\">\n",
       "      <th></th>\n",
       "      <th>population</th>\n",
       "      <th>time</th>\n",
       "      <th>lat</th>\n",
       "      <th>lon</th>\n",
       "      <th>abundance_cells_per_microliter</th>\n",
       "      <th>diameter_micrometer</th>\n",
       "      <th>depth</th>\n",
       "      <th>CMAP_NO3_tblPisces_Forecast_cl1</th>\n",
       "      <th>CMAP_PO4_tblPisces_Forecast_cl1</th>\n",
       "      <th>CMAP_Fe_tblPisces_Forecast_cl1</th>\n",
       "      <th>CMAP_Si_tblPisces_Forecast_cl1</th>\n",
       "      <th>CMAP_chl_tblPisces_Forecast_cl1</th>\n",
       "    </tr>\n",
       "  </thead>\n",
       "  <tbody>\n",
       "    <tr>\n",
       "      <th>0</th>\n",
       "      <td>picoeuk</td>\n",
       "      <td>2023-02-25 05:40:00</td>\n",
       "      <td>21.30670</td>\n",
       "      <td>-157.0366</td>\n",
       "      <td>14.303231</td>\n",
       "      <td>1.557860</td>\n",
       "      <td>0.0</td>\n",
       "      <td>0.000562</td>\n",
       "      <td>0.212505</td>\n",
       "      <td>0.000433</td>\n",
       "      <td>2.092356</td>\n",
       "      <td>0.072018</td>\n",
       "    </tr>\n",
       "    <tr>\n",
       "      <th>1</th>\n",
       "      <td>picoeuk</td>\n",
       "      <td>2023-02-25 05:50:00</td>\n",
       "      <td>21.31420</td>\n",
       "      <td>-157.0321</td>\n",
       "      <td>20.716981</td>\n",
       "      <td>1.576000</td>\n",
       "      <td>0.0</td>\n",
       "      <td>0.000562</td>\n",
       "      <td>0.212505</td>\n",
       "      <td>0.000433</td>\n",
       "      <td>2.092356</td>\n",
       "      <td>0.072018</td>\n",
       "    </tr>\n",
       "    <tr>\n",
       "      <th>2</th>\n",
       "      <td>picoeuk</td>\n",
       "      <td>2023-02-25 06:00:00</td>\n",
       "      <td>21.31230</td>\n",
       "      <td>-157.0168</td>\n",
       "      <td>22.590023</td>\n",
       "      <td>1.606258</td>\n",
       "      <td>0.0</td>\n",
       "      <td>0.000562</td>\n",
       "      <td>0.212505</td>\n",
       "      <td>0.000433</td>\n",
       "      <td>2.092356</td>\n",
       "      <td>0.072018</td>\n",
       "    </tr>\n",
       "    <tr>\n",
       "      <th>3</th>\n",
       "      <td>picoeuk</td>\n",
       "      <td>2023-02-25 06:10:00</td>\n",
       "      <td>21.31170</td>\n",
       "      <td>-156.9975</td>\n",
       "      <td>20.915637</td>\n",
       "      <td>1.544307</td>\n",
       "      <td>0.0</td>\n",
       "      <td>0.000534</td>\n",
       "      <td>0.211138</td>\n",
       "      <td>0.000450</td>\n",
       "      <td>2.089565</td>\n",
       "      <td>0.072336</td>\n",
       "    </tr>\n",
       "    <tr>\n",
       "      <th>4</th>\n",
       "      <td>picoeuk</td>\n",
       "      <td>2023-02-25 06:20:00</td>\n",
       "      <td>21.31105</td>\n",
       "      <td>-156.9805</td>\n",
       "      <td>22.320419</td>\n",
       "      <td>1.549379</td>\n",
       "      <td>0.0</td>\n",
       "      <td>0.000534</td>\n",
       "      <td>0.211138</td>\n",
       "      <td>0.000450</td>\n",
       "      <td>2.089565</td>\n",
       "      <td>0.072336</td>\n",
       "    </tr>\n",
       "    <tr>\n",
       "      <th>...</th>\n",
       "      <td>...</td>\n",
       "      <td>...</td>\n",
       "      <td>...</td>\n",
       "      <td>...</td>\n",
       "      <td>...</td>\n",
       "      <td>...</td>\n",
       "      <td>...</td>\n",
       "      <td>...</td>\n",
       "      <td>...</td>\n",
       "      <td>...</td>\n",
       "      <td>...</td>\n",
       "      <td>...</td>\n",
       "    </tr>\n",
       "    <tr>\n",
       "      <th>5886</th>\n",
       "      <td>synecho</td>\n",
       "      <td>2023-03-11 07:50:00</td>\n",
       "      <td>NaN</td>\n",
       "      <td>NaN</td>\n",
       "      <td>NaN</td>\n",
       "      <td>NaN</td>\n",
       "      <td>NaN</td>\n",
       "      <td>NaN</td>\n",
       "      <td>NaN</td>\n",
       "      <td>NaN</td>\n",
       "      <td>NaN</td>\n",
       "      <td>NaN</td>\n",
       "    </tr>\n",
       "    <tr>\n",
       "      <th>5887</th>\n",
       "      <td>synecho</td>\n",
       "      <td>2023-03-11 08:00:00</td>\n",
       "      <td>-19.42280</td>\n",
       "      <td>-181.8752</td>\n",
       "      <td>0.283794</td>\n",
       "      <td>1.008841</td>\n",
       "      <td>0.0</td>\n",
       "      <td>NaN</td>\n",
       "      <td>NaN</td>\n",
       "      <td>NaN</td>\n",
       "      <td>NaN</td>\n",
       "      <td>NaN</td>\n",
       "    </tr>\n",
       "    <tr>\n",
       "      <th>5888</th>\n",
       "      <td>synecho</td>\n",
       "      <td>2023-03-11 08:10:00</td>\n",
       "      <td>NaN</td>\n",
       "      <td>NaN</td>\n",
       "      <td>NaN</td>\n",
       "      <td>NaN</td>\n",
       "      <td>NaN</td>\n",
       "      <td>NaN</td>\n",
       "      <td>NaN</td>\n",
       "      <td>NaN</td>\n",
       "      <td>NaN</td>\n",
       "      <td>NaN</td>\n",
       "    </tr>\n",
       "    <tr>\n",
       "      <th>5889</th>\n",
       "      <td>synecho</td>\n",
       "      <td>2023-03-11 08:20:00</td>\n",
       "      <td>-19.42080</td>\n",
       "      <td>-181.8129</td>\n",
       "      <td>0.283794</td>\n",
       "      <td>1.296998</td>\n",
       "      <td>0.0</td>\n",
       "      <td>NaN</td>\n",
       "      <td>NaN</td>\n",
       "      <td>NaN</td>\n",
       "      <td>NaN</td>\n",
       "      <td>NaN</td>\n",
       "    </tr>\n",
       "    <tr>\n",
       "      <th>5890</th>\n",
       "      <td>synecho</td>\n",
       "      <td>2023-03-11 08:30:00</td>\n",
       "      <td>-19.42070</td>\n",
       "      <td>-181.7921</td>\n",
       "      <td>0.269605</td>\n",
       "      <td>1.016937</td>\n",
       "      <td>0.0</td>\n",
       "      <td>NaN</td>\n",
       "      <td>NaN</td>\n",
       "      <td>NaN</td>\n",
       "      <td>NaN</td>\n",
       "      <td>NaN</td>\n",
       "    </tr>\n",
       "  </tbody>\n",
       "</table>\n",
       "<p>5891 rows × 12 columns</p>\n",
       "</div>"
      ],
      "text/plain": [
       "     population                time       lat       lon  \\\n",
       "0       picoeuk 2023-02-25 05:40:00  21.30670 -157.0366   \n",
       "1       picoeuk 2023-02-25 05:50:00  21.31420 -157.0321   \n",
       "2       picoeuk 2023-02-25 06:00:00  21.31230 -157.0168   \n",
       "3       picoeuk 2023-02-25 06:10:00  21.31170 -156.9975   \n",
       "4       picoeuk 2023-02-25 06:20:00  21.31105 -156.9805   \n",
       "...         ...                 ...       ...       ...   \n",
       "5886    synecho 2023-03-11 07:50:00       NaN       NaN   \n",
       "5887    synecho 2023-03-11 08:00:00 -19.42280 -181.8752   \n",
       "5888    synecho 2023-03-11 08:10:00       NaN       NaN   \n",
       "5889    synecho 2023-03-11 08:20:00 -19.42080 -181.8129   \n",
       "5890    synecho 2023-03-11 08:30:00 -19.42070 -181.7921   \n",
       "\n",
       "      abundance_cells_per_microliter  diameter_micrometer  depth  \\\n",
       "0                          14.303231             1.557860    0.0   \n",
       "1                          20.716981             1.576000    0.0   \n",
       "2                          22.590023             1.606258    0.0   \n",
       "3                          20.915637             1.544307    0.0   \n",
       "4                          22.320419             1.549379    0.0   \n",
       "...                              ...                  ...    ...   \n",
       "5886                             NaN                  NaN    NaN   \n",
       "5887                        0.283794             1.008841    0.0   \n",
       "5888                             NaN                  NaN    NaN   \n",
       "5889                        0.283794             1.296998    0.0   \n",
       "5890                        0.269605             1.016937    0.0   \n",
       "\n",
       "      CMAP_NO3_tblPisces_Forecast_cl1  CMAP_PO4_tblPisces_Forecast_cl1  \\\n",
       "0                            0.000562                         0.212505   \n",
       "1                            0.000562                         0.212505   \n",
       "2                            0.000562                         0.212505   \n",
       "3                            0.000534                         0.211138   \n",
       "4                            0.000534                         0.211138   \n",
       "...                               ...                              ...   \n",
       "5886                              NaN                              NaN   \n",
       "5887                              NaN                              NaN   \n",
       "5888                              NaN                              NaN   \n",
       "5889                              NaN                              NaN   \n",
       "5890                              NaN                              NaN   \n",
       "\n",
       "      CMAP_Fe_tblPisces_Forecast_cl1  CMAP_Si_tblPisces_Forecast_cl1  \\\n",
       "0                           0.000433                        2.092356   \n",
       "1                           0.000433                        2.092356   \n",
       "2                           0.000433                        2.092356   \n",
       "3                           0.000450                        2.089565   \n",
       "4                           0.000450                        2.089565   \n",
       "...                              ...                             ...   \n",
       "5886                             NaN                             NaN   \n",
       "5887                             NaN                             NaN   \n",
       "5888                             NaN                             NaN   \n",
       "5889                             NaN                             NaN   \n",
       "5890                             NaN                             NaN   \n",
       "\n",
       "      CMAP_chl_tblPisces_Forecast_cl1  \n",
       "0                            0.072018  \n",
       "1                            0.072018  \n",
       "2                            0.072018  \n",
       "3                            0.072336  \n",
       "4                            0.072336  \n",
       "...                               ...  \n",
       "5886                              NaN  \n",
       "5887                              NaN  \n",
       "5888                              NaN  \n",
       "5889                              NaN  \n",
       "5890                              NaN  \n",
       "\n",
       "[5891 rows x 12 columns]"
      ]
     },
     "execution_count": 52,
     "metadata": {},
     "output_type": "execute_result"
    }
   ],
   "source": [
    "realtime_cmap_path = '/Users/cristianswift/Desktop/Spring-Quarter-2022-2023/SeniorThesis/data/realtime_cmap.csv'\n",
    "realtime_cmap = (pd.read_csv(realtime_cmap_path,parse_dates=[0])\n",
    "                )\n",
    "realtime_cmap['time'] = pd.to_datetime(realtime_cmap['time'])\n",
    "realtime_cmap"
   ]
  },
  {
   "cell_type": "code",
   "execution_count": 53,
   "metadata": {},
   "outputs": [
    {
     "data": {
      "text/plain": [
       "(3635, 12)"
      ]
     },
     "execution_count": 53,
     "metadata": {},
     "output_type": "execute_result"
    }
   ],
   "source": [
    "realtime_cmap.dropna().shape"
   ]
  },
  {
   "cell_type": "markdown",
   "metadata": {},
   "source": [
    "### Creating Population name column"
   ]
  },
  {
   "cell_type": "code",
   "execution_count": 54,
   "metadata": {},
   "outputs": [],
   "source": [
    "# population name"
   ]
  },
  {
   "cell_type": "markdown",
   "metadata": {},
   "source": [
    "### Calculating Biomass"
   ]
  },
  {
   "cell_type": "code",
   "execution_count": 55,
   "metadata": {},
   "outputs": [],
   "source": [
    "#first calulating volumn of a sphere given plankton diamter\n",
    "import math\n",
    "plankton_volume = (4/3) * math.pi * (realtime_cmap['diameter_micrometer']/2)**3\n",
    "#calulating carbon quota\n",
    "carbon_quota = 0.261 * plankton_volume**0.86\n",
    "# multipling the result by abundance to get total biomass per measurement (multipling by 1000 to get pgC per L)\n",
    "realtime_cmap['biomass'] = realtime_cmap['abundance_cells_per_microliter'] * carbon_quota"
   ]
  },
  {
   "cell_type": "markdown",
   "metadata": {},
   "source": [
    "### Loading in cruise underway CTD data"
   ]
  },
  {
   "cell_type": "code",
   "execution_count": 56,
   "metadata": {},
   "outputs": [],
   "source": [
    "underway_path = '/Users/cristianswift/Desktop/Spring-Quarter-2022-2023/SeniorThesis/data/TN413-underway.tab'\n",
    "#reading in underway data and dropping unnessasary columns (conductivity, par)\n",
    "underway = (pd.read_csv(underway_path, delimiter='\t',skiprows=6)\n",
    "            .drop(columns=['conductivity', 'par'], axis=1)\n",
    "           )\n",
    "#fixing time column\n",
    "underway['time'] = underway['time'].str[:-1]\n",
    "#dropping rows that dont have no temp or salinity \n",
    "underway = underway.dropna()\n",
    "#making the time column a datetime64[ns]\n",
    "underway['time'] = pd.to_datetime(underway['time'])\n",
    "underway\n",
    "underway.to_csv('/Users/cristianswift/Desktop/Spring-Quarter-2022-2023/SeniorThesis/data/underway.csv', index=False)"
   ]
  },
  {
   "cell_type": "code",
   "execution_count": 57,
   "metadata": {},
   "outputs": [
    {
     "data": {
      "text/plain": [
       "(21438, 5)"
      ]
     },
     "execution_count": 57,
     "metadata": {},
     "output_type": "execute_result"
    }
   ],
   "source": [
    "underway.shape"
   ]
  },
  {
   "cell_type": "code",
   "execution_count": 58,
   "metadata": {},
   "outputs": [
    {
     "data": {
      "text/html": [
       "<div>\n",
       "<style scoped>\n",
       "    .dataframe tbody tr th:only-of-type {\n",
       "        vertical-align: middle;\n",
       "    }\n",
       "\n",
       "    .dataframe tbody tr th {\n",
       "        vertical-align: top;\n",
       "    }\n",
       "\n",
       "    .dataframe thead th {\n",
       "        text-align: right;\n",
       "    }\n",
       "</style>\n",
       "<table border=\"1\" class=\"dataframe\">\n",
       "  <thead>\n",
       "    <tr style=\"text-align: right;\">\n",
       "      <th></th>\n",
       "      <th>time</th>\n",
       "      <th>lat</th>\n",
       "      <th>lon</th>\n",
       "      <th>temp</th>\n",
       "      <th>salinity</th>\n",
       "    </tr>\n",
       "  </thead>\n",
       "  <tbody>\n",
       "    <tr>\n",
       "      <th>339</th>\n",
       "      <td>2023-02-25 04:20:02</td>\n",
       "      <td>21.2259</td>\n",
       "      <td>-157.0856</td>\n",
       "      <td>26.5682</td>\n",
       "      <td>34.8463</td>\n",
       "    </tr>\n",
       "    <tr>\n",
       "      <th>340</th>\n",
       "      <td>2023-02-25 04:21:02</td>\n",
       "      <td>21.2251</td>\n",
       "      <td>-157.0827</td>\n",
       "      <td>25.0258</td>\n",
       "      <td>35.0090</td>\n",
       "    </tr>\n",
       "    <tr>\n",
       "      <th>341</th>\n",
       "      <td>2023-02-25 04:22:02</td>\n",
       "      <td>21.2243</td>\n",
       "      <td>-157.0801</td>\n",
       "      <td>24.5832</td>\n",
       "      <td>34.9939</td>\n",
       "    </tr>\n",
       "    <tr>\n",
       "      <th>342</th>\n",
       "      <td>2023-02-25 04:23:02</td>\n",
       "      <td>21.2236</td>\n",
       "      <td>-157.0774</td>\n",
       "      <td>24.3960</td>\n",
       "      <td>34.9996</td>\n",
       "    </tr>\n",
       "  </tbody>\n",
       "</table>\n",
       "</div>"
      ],
      "text/plain": [
       "                   time      lat       lon     temp  salinity\n",
       "339 2023-02-25 04:20:02  21.2259 -157.0856  26.5682   34.8463\n",
       "340 2023-02-25 04:21:02  21.2251 -157.0827  25.0258   35.0090\n",
       "341 2023-02-25 04:22:02  21.2243 -157.0801  24.5832   34.9939\n",
       "342 2023-02-25 04:23:02  21.2236 -157.0774  24.3960   34.9996"
      ]
     },
     "execution_count": 58,
     "metadata": {},
     "output_type": "execute_result"
    }
   ],
   "source": [
    "underway.head(4)"
   ]
  },
  {
   "cell_type": "markdown",
   "metadata": {},
   "source": [
    "## Joining realtime_cmap and underway data into one dataframe"
   ]
  },
  {
   "cell_type": "markdown",
   "metadata": {},
   "source": [
    "### First we need to average underway data frame to an 10 min resolution"
   ]
  },
  {
   "cell_type": "code",
   "execution_count": 59,
   "metadata": {},
   "outputs": [
    {
     "data": {
      "text/plain": [
       "(2440, 4)"
      ]
     },
     "execution_count": 59,
     "metadata": {},
     "output_type": "execute_result"
    }
   ],
   "source": [
    "underway['time'] = pd.to_datetime(underway['time'])\n",
    "#this drops the phytoplankton population categorical column, need to recalulate\n",
    "underway_avg = underway.resample('10min', on='time').mean(numeric_only=True)\n",
    "underway_avg.shape"
   ]
  },
  {
   "cell_type": "code",
   "execution_count": 60,
   "metadata": {},
   "outputs": [],
   "source": [
    "tn413 = realtime_cmap.merge(underway_avg.drop(['lat','lon'], axis=1), left_on=['time'], right_on=['time'])"
   ]
  },
  {
   "cell_type": "code",
   "execution_count": 61,
   "metadata": {},
   "outputs": [
    {
     "data": {
      "text/plain": [
       "population                            0\n",
       "time                                  0\n",
       "lat                                1398\n",
       "lon                                1398\n",
       "abundance_cells_per_microliter     1398\n",
       "diameter_micrometer                1398\n",
       "depth                              1398\n",
       "CMAP_NO3_tblPisces_Forecast_cl1    2256\n",
       "CMAP_PO4_tblPisces_Forecast_cl1    2256\n",
       "CMAP_Fe_tblPisces_Forecast_cl1     2256\n",
       "CMAP_Si_tblPisces_Forecast_cl1     2256\n",
       "CMAP_chl_tblPisces_Forecast_cl1    2256\n",
       "biomass                            1398\n",
       "temp                                  0\n",
       "salinity                              0\n",
       "dtype: int64"
      ]
     },
     "execution_count": 61,
     "metadata": {},
     "output_type": "execute_result"
    }
   ],
   "source": [
    "#how many na values are there?\n",
    "tn413.isna().sum()"
   ]
  },
  {
   "cell_type": "code",
   "execution_count": 66,
   "metadata": {},
   "outputs": [],
   "source": [
    "#rename columns for the model\n",
    "\n",
    "tn413 = (tn413\n",
    "         .dropna()\n",
    "         .rename({'time':'date', 'population':'PopulationName','CMAP_NO3_tblPisces_Forecast_cl1': 'NO3NO2', 'CMAP_PO4_tblPisces_Forecast_cl1': 'PO4',\n",
    "             'CMAP_Fe_tblPisces_Forecast_cl1':'Fe', 'CMAP_Si_tblPisces_Forecast_cl1': 'SiO4',\n",
    "                  'CMAP_chl_tblPisces_Forecast_cl1': 'Satellite_CHL',\n",
    "                  'salinity':'salin', 'abundance_cells_per_microliter': 'cell_abundance',\n",
    "                  'diameter_micrometer':'cell_diameter'\n",
    "             \n",
    "         },axis=1)\n",
    "        )\n",
    "#renaming these\n",
    "covari['PopulationName'] = covari['PopulationName'].replace(\n",
    "    {'nanoeukaryotes (2-5µm)': 'non_pro_syn', 'picoeukaryotes (< 2µm)': 'non_pro_syn'}\n",
    ")\n",
    "        \n",
    "covari.to_csv('/Users/cristianswift/Desktop/Spring-Quarter-2022-2023/SeniorThesis/data/covari_cmap_ready.csv')\n",
    "tn413.to_csv('/Users/cristianswift/Desktop/Spring-Quarter-2022-2023/SeniorThesis/data/TN413_merged_10min.csv', index=False)\n"
   ]
  },
  {
   "cell_type": "code",
   "execution_count": 67,
   "metadata": {},
   "outputs": [],
   "source": [
    "import seaborn as sns\n",
    "import pandas as pd\n",
    "import geopandas as gpd\n",
    "import matplotlib.pyplot as plt\n",
    "from shapely.geometry import Point\n",
    "from geopandas import GeoDataFrame\n",
    "\n",
    "def plot_cruise_tracks(df, title):\n",
    "    # Create starting cruise tracks df that contains Nans\n",
    "    cruise_tracks = df.reset_index()[['date', 'lat', 'lon']]\n",
    "\n",
    "    # Create geometry dataframe to map in GeoPandas\n",
    "    geometry = [Point(xy) for xy in zip(cruise_tracks['lon'], cruise_tracks['lat'])]\n",
    "    gdf = GeoDataFrame(cruise_tracks, geometry=geometry, crs=3857)\n",
    "\n",
    "    # Load the world map shapefile using GeoPandas\n",
    "    world = gpd.read_file(gpd.datasets.get_path('naturalearth_lowres'))\n",
    "\n",
    "    # Create a GeoPandas plot of the world map\n",
    "    fig, ax = plt.subplots(figsize=(10, 6))\n",
    "    world.boundary.plot(ax=ax, linewidth=0.5, color='k')  # plot the world map boundaries\n",
    "\n",
    "    bounds = gdf.geometry.bounds\n",
    "    ax.set_xlim([bounds.minx.min()-5, bounds.maxx.max()+5])\n",
    "    ax.set_ylim([bounds.miny.min()-5, bounds.maxy.max()+5])\n",
    "\n",
    "    ax.set_title('Countries and Ocean Basins')\n",
    "    gdf.plot(linewidth=0.2, ax=ax)\n",
    "\n",
    "    # Set the background color of the plot to white\n",
    "    ax.set_facecolor('white')\n",
    "\n",
    "    # Set the title and labels for the plot\n",
    "    ax.set_title(title)\n",
    "    ax.set_xlabel('Longitude (º)')\n",
    "    ax.set_ylabel('Latitude (º)')\n",
    "\n",
    "    # Show the plot\n",
    "    plt.show()"
   ]
  },
  {
   "cell_type": "code",
   "execution_count": 68,
   "metadata": {},
   "outputs": [
    {
     "data": {
      "image/png": "[encoded data removed]",
      "text/plain": [
       "<Figure size 1000x600 with 1 Axes>"
      ]
     },
     "metadata": {},
     "output_type": "display_data"
    }
   ],
   "source": [
    "plot_cruise_tracks(tn413, 'R/V Thompson Senior Cruise 2023 (TN413)')"
   ]
  },
  {
   "cell_type": "code",
   "execution_count": 69,
   "metadata": {},
   "outputs": [
    {
     "data": {
      "image/png": "[encoded data removed]",
      "text/plain": [
       "<Figure size 1000x600 with 1 Axes>"
      ]
     },
     "metadata": {},
     "output_type": "display_data"
    }
   ],
   "source": [
    "plot_cruise_tracks(covari, 'R/V Thompson Senior Cruise 2023 (TN413)')"
   ]
  },
  {
   "cell_type": "code",
   "execution_count": 70,
   "metadata": {},
   "outputs": [
    {
     "data": {
      "image/png": "[encoded data removed]",
      "text/plain": [
       "<Figure size 1000x600 with 1 Axes>"
      ]
     },
     "metadata": {},
     "output_type": "display_data"
    }
   ],
   "source": [
    "import seaborn as sns\n",
    "import pandas as pd\n",
    "import geopandas as gpd\n",
    "from geopandas import GeoSeries, GeoDataFrame\n",
    "\n",
    "# Create starting cruise tracks df that contains Nans\n",
    "cruise_tracks = tn413.reset_index()[['date', 'lat', 'lon']]\n",
    "\n",
    "#creating a geometry dataframe to map in geopandas\n",
    "from shapely.geometry import Point\n",
    "        #list comperehension\n",
    "geometry = [Point(xy) for xy in zip(cruise_tracks['lon'],\n",
    "                                    cruise_tracks['lat'])]\n",
    "\n",
    "gdf = GeoDataFrame(cruise_tracks, geometry=geometry, crs=3857)\n",
    "\n",
    "# Load the world map shapefile using GeoPandas\n",
    "world = gpd.read_file(gpd.datasets.get_path('naturalearth_lowres'))\n",
    "\n",
    "# Create a GeoPandas plot of the world map\n",
    "fig, ax = plt.subplots(figsize=(10, 6))\n",
    "world.boundary.plot(ax=ax, linewidth=0.5, color='k')  # plot the world map boundaries\n",
    "\n",
    "bounds = gdf.geometry.bounds\n",
    "\n",
    "ax.set_xlim([bounds.minx.min()-5, bounds.maxx.max()+5])\n",
    "ax.set_ylim([bounds.miny.min()-5, bounds.maxy.max()+5])\n",
    "\n",
    "ax.set_title('Countries and Ocean Basins')\n",
    "\n",
    "gdf.plot(linewidth=0.2, ax=ax)\n",
    "# Set the background color of the plot to white\n",
    "ax.set_facecolor('white')\n",
    "\n",
    "# Set the title and labels for the plot\n",
    "ax.set_title('R/V Thompson Senior Cruise (2023)')\n",
    "ax.set_xlabel('Longitude (º)')\n",
    "ax.set_ylabel('Latitude (º)')\n",
    "\n",
    "# Show the plot\n",
    "plt.show()"
   ]
  },
  {
   "cell_type": "code",
   "execution_count": 71,
   "metadata": {},
   "outputs": [],
   "source": [
    "def cruise_tract(dataframe):\n",
    "    import seaborn as sns\n",
    "    import pandas as pd\n",
    "    import geopandas as gpd\n",
    "    from geopandas import GeoSeries, GeoDataFrame\n",
    "\n",
    "    # Create starting cruise tracks df that contains Nans\n",
    "    cruise_tracks = dataframe.reset_index()[['date', 'lat', 'lon', 'cruisename']]\n",
    "\n",
    "    #creating a geometry dataframe to map in geopandas\n",
    "    from shapely.geometry import Point\n",
    "            #list comperehension\n",
    "    geometry = [Point(xy) for xy in zip(cruise_tracks['lon'],\n",
    "                                        cruise_tracks['lat'])]\n",
    "\n",
    "    gdf = GeoDataFrame(cruise_tracks, geometry=geometry, crs=3857)\n",
    "\n",
    "    # Load the world map shapefile using GeoPandas\n",
    "    world = gpd.read_file(gpd.datasets.get_path('naturalearth_lowres'))\n",
    "\n",
    "    # Create a GeoPandas plot of the world map\n",
    "    fig, ax = plt.subplots(figsize=(10, 6))\n",
    "    world.boundary.plot(ax=ax, linewidth=0.5, color='k')  # plot the world map boundaries\n",
    "\n",
    "    bounds = gdf.geometry.bounds\n",
    "\n",
    "    ax.set_xlim([bounds.minx.min()-5, bounds.maxx.max()+5])\n",
    "    ax.set_ylim([bounds.miny.min()-5, bounds.maxy.max()+5])\n",
    "\n",
    "    ax.set_title('Countries and Ocean Basins')\n",
    "\n",
    "    gdf.plot(column='cruisename', legend=True, linewidth=0.2, ax=ax)\n",
    "    # Set the background color of the plot to white\n",
    "    ax.set_facecolor('white')\n",
    "\n",
    "    # Set the title and labels for the plot\n",
    "    ax.set_title('Cruises with no NaN Values')\n",
    "    ax.set_xlabel('Longitude')\n",
    "    ax.set_ylabel('Latitude')\n",
    "\n",
    "    # Show the plot\n",
    "    plt.show()\n",
    "    "
   ]
  },
  {
   "cell_type": "code",
   "execution_count": 72,
   "metadata": {},
   "outputs": [
    {
     "data": {
      "image/png": "[encoded data removed]",
      "text/plain": [
       "<Figure size 1000x600 with 1 Axes>"
      ]
     },
     "metadata": {},
     "output_type": "display_data"
    }
   ],
   "source": [
    "cruise_tract(covari)"
   ]
  },
  {
   "cell_type": "code",
   "execution_count": 76,
   "metadata": {},
   "outputs": [
    {
     "data": {
      "text/plain": [
       "Index(['date', 'PopulationName', 'lat', 'lon', 'cell_abundance', 'biomass',\n",
       "       'cellquotas', 'cell_diameter', 'salin', 'temp', 'cruisename',\n",
       "       'Light_micromolQuanta_m2_s', 'SiO4', 'NO3NO2', 'PO4', 'Fe',\n",
       "       'Satellite_CHL', 'mixed_layer_depth'],\n",
       "      dtype='object')"
      ]
     },
     "execution_count": 76,
     "metadata": {},
     "output_type": "execute_result"
    }
   ],
   "source": [
    "covari.columns"
   ]
  },
  {
   "cell_type": "code",
   "execution_count": 73,
   "metadata": {},
   "outputs": [],
   "source": [
    "# realtime_path = '/Users/cristianswift/Desktop/Spring-Quarter-2022-2023/SeniorThesis/data/SeaFlow_realtime_TN413.csv'\n",
    "\n",
    "# #changing column naes so that the date is just called data\n",
    "# realtime_cols = ['date',\n",
    "#  'latitude_decimaldegree',\n",
    "#  'longitude_decimaldegree',\n",
    "#  'population',\n",
    "#  'abundance_cells_per_microliter',\n",
    "#  'diameter_micrometer']\n",
    "\n",
    "# #reading in the csv to a pandas df\n",
    "# realtime = pd.read_csv(realtime_path, names=realtime_cols, parse_dates=[0])\n",
    "# #taking a small peak at the data   \n",
    "# realtime = realtime.tail(-1) # getting rid of the first row since it has the column names repeated\n",
    "# realtime.head(5)"
   ]
  },
  {
   "cell_type": "code",
   "execution_count": 74,
   "metadata": {},
   "outputs": [],
   "source": [
    "# import seaborn as sns\n",
    "# import pandas as pd\n",
    "# import geopandas as gpd\n",
    "# from geopandas import GeoSeries, GeoDataFrame\n",
    "\n",
    "# # Create starting cruise tracks df that contains Nans\n",
    "# cruise_tracks = realtime.reset_index()[['date', 'latitude_decimaldegree', 'longitude_decimaldegree']]\n",
    "\n",
    "# #creating a geometry dataframe to map in geopandas\n",
    "# from shapely.geometry import Point\n",
    "#         #list comperehension\n",
    "# geometry = [Point(xy) for xy in zip(cruise_tracks['longitude_decimaldegree'],\n",
    "#                                     cruise_tracks['latitude_decimaldegree'])]\n",
    "\n",
    "# gdf = GeoDataFrame(cruise_tracks, geometry=geometry, crs=3857)\n",
    "\n",
    "# # Load the world map shapefile using GeoPandas\n",
    "# world = gpd.read_file(gpd.datasets.get_path('naturalearth_lowres'))\n",
    "\n",
    "# # Create a GeoPandas plot of the world map\n",
    "# fig, ax = plt.subplots(figsize=(10, 6))\n",
    "# world.boundary.plot(ax=ax, linewidth=0.5, color='k')  # plot the world map boundaries\n",
    "\n",
    "# bounds = gdf.geometry.bounds\n",
    "\n",
    "# ax.set_xlim([bounds.minx.min()-5, bounds.maxx.max()+5])\n",
    "# ax.set_ylim([bounds.miny.min()-5, bounds.maxy.max()+5])\n",
    "\n",
    "# ax.set_title('Countries and Ocean Basins')\n",
    "\n",
    "# gdf.plot(linewidth=0.2, ax=ax)\n",
    "# # Set the background color of the plot to white\n",
    "# ax.set_facecolor('white')\n",
    "\n",
    "# # Set the title and labels for the plot\n",
    "# ax.set_title('R/V Thompson Senior Cruise (2023)')\n",
    "# ax.set_xlabel('Longitude (º)')\n",
    "# ax.set_ylabel('Latitude (º)')\n",
    "\n",
    "# # Show the plot\n",
    "# plt.show()"
   ]
  }
 ],
 "metadata": {
  "kernelspec": {
   "display_name": "Python 3 (ipykernel)",
   "language": "python",
   "name": "python3"
  },
  "language_info": {
   "codemirror_mode": {
    "name": "ipython",
    "version": 3
   },
   "file_extension": ".py",
   "mimetype": "text/x-python",
   "name": "python",
   "nbconvert_exporter": "python",
   "pygments_lexer": "ipython3",
   "version": "3.11.2"
  }
 },
 "nbformat": 4,
 "nbformat_minor": 4
}
