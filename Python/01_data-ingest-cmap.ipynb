{
 "cells": [
  {
   "cell_type": "markdown",
   "metadata": {},
   "source": [
    "# Loading Functions"
   ]
  },
  {
   "cell_type": "code",
   "execution_count": 24,
   "metadata": {
    "scrolled": true
   },
   "outputs": [],
   "source": [
    "# !pip3 install pandas==2.0.0\n",
    "# !pip3 install seaborn\n",
    "# !pip3 install numpy==1.20.3"
   ]
  },
  {
   "cell_type": "code",
   "execution_count": 25,
   "metadata": {},
   "outputs": [],
   "source": [
    "import pandas as pd\n",
    "import numpy as np\n",
    "import seaborn as sns\n",
    "import matplotlib.pyplot as plt\n",
    "import matplotlib.ticker as mticker\n",
    "import matplotlib.dates as mdates\n",
    "import matplotlib.cbook as cbook"
   ]
  },
  {
   "cell_type": "markdown",
   "metadata": {},
   "source": [
    "## Creating Covariable data set\n",
    "### Datetime is in UTC"
   ]
  },
  {
   "cell_type": "code",
   "execution_count": 26,
   "metadata": {},
   "outputs": [],
   "source": [
    "covari_path = '/Users/cristianswift/Desktop/Spring-Quarter-2022-2023/SeniorThesis/data/covari_cmap.csv'\n",
    "#Reading in the csv \n",
    "covari = pd.read_csv(covari_path, parse_dates=[0],\n",
    "                    na_values=\"NaN\")\n",
    "\n",
    "\n",
    "covari = covari.dropna().reset_index(drop=True)"
   ]
  },
  {
   "cell_type": "markdown",
   "metadata": {},
   "source": [
    "### For N nutrients, only about 1/10th of the data is not null"
   ]
  },
  {
   "cell_type": "markdown",
   "metadata": {},
   "source": [
    "## Creating Real Time data set that includes CMAP and Underway data"
   ]
  },
  {
   "cell_type": "markdown",
   "metadata": {},
   "source": [
    "### Loading in realtime data that has colocalized CMAP features"
   ]
  },
  {
   "cell_type": "code",
   "execution_count": 27,
   "metadata": {
    "scrolled": true
   },
   "outputs": [
    {
     "data": {
      "text/html": [
       "<div>\n",
       "<style scoped>\n",
       "    .dataframe tbody tr th:only-of-type {\n",
       "        vertical-align: middle;\n",
       "    }\n",
       "\n",
       "    .dataframe tbody tr th {\n",
       "        vertical-align: top;\n",
       "    }\n",
       "\n",
       "    .dataframe thead th {\n",
       "        text-align: right;\n",
       "    }\n",
       "</style>\n",
       "<table border=\"1\" class=\"dataframe\">\n",
       "  <thead>\n",
       "    <tr style=\"text-align: right;\">\n",
       "      <th></th>\n",
       "      <th>population</th>\n",
       "      <th>time</th>\n",
       "      <th>lat</th>\n",
       "      <th>lon</th>\n",
       "      <th>abundance_cells_per_microliter</th>\n",
       "      <th>diameter_micrometer</th>\n",
       "      <th>depth</th>\n",
       "      <th>CMAP_NO3_tblPisces_Forecast_cl1</th>\n",
       "      <th>CMAP_PO4_tblPisces_Forecast_cl1</th>\n",
       "      <th>CMAP_Fe_tblPisces_Forecast_cl1</th>\n",
       "      <th>CMAP_Si_tblPisces_Forecast_cl1</th>\n",
       "      <th>CMAP_chl_tblPisces_Forecast_cl1</th>\n",
       "    </tr>\n",
       "  </thead>\n",
       "  <tbody>\n",
       "    <tr>\n",
       "      <th>0</th>\n",
       "      <td>picoeuk</td>\n",
       "      <td>2023-02-25T05:40:00</td>\n",
       "      <td>21.3067</td>\n",
       "      <td>-157.0366</td>\n",
       "      <td>14.303231</td>\n",
       "      <td>1.557860</td>\n",
       "      <td>0.0</td>\n",
       "      <td>0.000562</td>\n",
       "      <td>0.212505</td>\n",
       "      <td>0.000433</td>\n",
       "      <td>2.092356</td>\n",
       "      <td>0.072018</td>\n",
       "    </tr>\n",
       "    <tr>\n",
       "      <th>1</th>\n",
       "      <td>picoeuk</td>\n",
       "      <td>2023-02-25T05:50:00</td>\n",
       "      <td>21.3142</td>\n",
       "      <td>-157.0321</td>\n",
       "      <td>20.716981</td>\n",
       "      <td>1.576000</td>\n",
       "      <td>0.0</td>\n",
       "      <td>0.000562</td>\n",
       "      <td>0.212505</td>\n",
       "      <td>0.000433</td>\n",
       "      <td>2.092356</td>\n",
       "      <td>0.072018</td>\n",
       "    </tr>\n",
       "    <tr>\n",
       "      <th>2</th>\n",
       "      <td>picoeuk</td>\n",
       "      <td>2023-02-25T06:00:00</td>\n",
       "      <td>21.3123</td>\n",
       "      <td>-157.0168</td>\n",
       "      <td>22.590023</td>\n",
       "      <td>1.606258</td>\n",
       "      <td>0.0</td>\n",
       "      <td>0.000562</td>\n",
       "      <td>0.212505</td>\n",
       "      <td>0.000433</td>\n",
       "      <td>2.092356</td>\n",
       "      <td>0.072018</td>\n",
       "    </tr>\n",
       "  </tbody>\n",
       "</table>\n",
       "</div>"
      ],
      "text/plain": [
       "  population                 time      lat       lon  \\\n",
       "0    picoeuk  2023-02-25T05:40:00  21.3067 -157.0366   \n",
       "1    picoeuk  2023-02-25T05:50:00  21.3142 -157.0321   \n",
       "2    picoeuk  2023-02-25T06:00:00  21.3123 -157.0168   \n",
       "\n",
       "   abundance_cells_per_microliter  diameter_micrometer  depth  \\\n",
       "0                       14.303231             1.557860    0.0   \n",
       "1                       20.716981             1.576000    0.0   \n",
       "2                       22.590023             1.606258    0.0   \n",
       "\n",
       "   CMAP_NO3_tblPisces_Forecast_cl1  CMAP_PO4_tblPisces_Forecast_cl1  \\\n",
       "0                         0.000562                         0.212505   \n",
       "1                         0.000562                         0.212505   \n",
       "2                         0.000562                         0.212505   \n",
       "\n",
       "   CMAP_Fe_tblPisces_Forecast_cl1  CMAP_Si_tblPisces_Forecast_cl1  \\\n",
       "0                        0.000433                        2.092356   \n",
       "1                        0.000433                        2.092356   \n",
       "2                        0.000433                        2.092356   \n",
       "\n",
       "   CMAP_chl_tblPisces_Forecast_cl1  \n",
       "0                         0.072018  \n",
       "1                         0.072018  \n",
       "2                         0.072018  "
      ]
     },
     "execution_count": 27,
     "metadata": {},
     "output_type": "execute_result"
    }
   ],
   "source": [
    "realtime_cmap_path = '/Users/cristianswift/Desktop/Spring-Quarter-2022-2023/SeniorThesis/data/modifed/realtime_cmap.csv'\n",
    "#using pandas to read in as a df\n",
    "realtime_cmap = (pd.read_csv(realtime_cmap_path,parse_dates=[0]))\n",
    "#taking a peak at the data\n",
    "realtime_cmap.head(3)\n"
   ]
  },
  {
   "cell_type": "markdown",
   "metadata": {},
   "source": [
    "### Calculating Biomass\n",
    "Given calculation"
   ]
  },
  {
   "cell_type": "code",
   "execution_count": 28,
   "metadata": {},
   "outputs": [],
   "source": [
    "#first calulating volumn of a sphere given plankton diamter\n",
    "import math\n",
    "plankton_volume = (4/3) * math.pi * (realtime_cmap['diameter_micrometer']/2)**3\n",
    "#calulating carbon quota\n",
    "carbon_quota = 0.261 * plankton_volume**0.86\n",
    "# multipling the result by abundance to get total biomass per measurement (multipling by 1000 to get pgC per L)\n",
    "realtime_cmap['biomass'] = realtime_cmap['abundance_cells_per_microliter'] * carbon_quota"
   ]
  },
  {
   "cell_type": "markdown",
   "metadata": {},
   "source": [
    "### Loading in cruise underway CTD data"
   ]
  },
  {
   "cell_type": "code",
   "execution_count": 29,
   "metadata": {},
   "outputs": [],
   "source": [
    "underway_path = '/Users/cristianswift/Desktop/Spring-Quarter-2022-2023/SeniorThesis/data/TN413-underway.tab'\n",
    "#reading in underway data and dropping unnessasary columns (conductivity, par)\n",
    "underway = (pd.read_csv(underway_path, delimiter='\t',skiprows=6)\n",
    "            .drop(columns=['conductivity', 'par'], axis=1)\n",
    "           )\n",
    "#fixing time column\n",
    "underway['time'] = underway['time'].str[:-1]\n",
    "#dropping rows that dont have no temp or salinity \n",
    "underway = underway.dropna()\n",
    "#making the time column a datetime64[ns]\n",
    "underway['time'] = pd.to_datetime(underway['time'])\n",
    "underway\n",
    "underway.to_csv('/Users/cristianswift/Desktop/Spring-Quarter-2022-2023/SeniorThesis/data/underway.csv', index=False)"
   ]
  },
  {
   "cell_type": "code",
   "execution_count": 30,
   "metadata": {},
   "outputs": [
    {
     "data": {
      "text/plain": [
       "(21438, 5)"
      ]
     },
     "execution_count": 30,
     "metadata": {},
     "output_type": "execute_result"
    }
   ],
   "source": [
    "underway.shape"
   ]
  },
  {
   "cell_type": "code",
   "execution_count": 31,
   "metadata": {},
   "outputs": [
    {
     "data": {
      "text/html": [
       "<div>\n",
       "<style scoped>\n",
       "    .dataframe tbody tr th:only-of-type {\n",
       "        vertical-align: middle;\n",
       "    }\n",
       "\n",
       "    .dataframe tbody tr th {\n",
       "        vertical-align: top;\n",
       "    }\n",
       "\n",
       "    .dataframe thead th {\n",
       "        text-align: right;\n",
       "    }\n",
       "</style>\n",
       "<table border=\"1\" class=\"dataframe\">\n",
       "  <thead>\n",
       "    <tr style=\"text-align: right;\">\n",
       "      <th></th>\n",
       "      <th>time</th>\n",
       "      <th>lat</th>\n",
       "      <th>lon</th>\n",
       "      <th>temp</th>\n",
       "      <th>salinity</th>\n",
       "    </tr>\n",
       "  </thead>\n",
       "  <tbody>\n",
       "    <tr>\n",
       "      <th>339</th>\n",
       "      <td>2023-02-25 04:20:02</td>\n",
       "      <td>21.2259</td>\n",
       "      <td>-157.0856</td>\n",
       "      <td>26.5682</td>\n",
       "      <td>34.8463</td>\n",
       "    </tr>\n",
       "    <tr>\n",
       "      <th>340</th>\n",
       "      <td>2023-02-25 04:21:02</td>\n",
       "      <td>21.2251</td>\n",
       "      <td>-157.0827</td>\n",
       "      <td>25.0258</td>\n",
       "      <td>35.0090</td>\n",
       "    </tr>\n",
       "    <tr>\n",
       "      <th>341</th>\n",
       "      <td>2023-02-25 04:22:02</td>\n",
       "      <td>21.2243</td>\n",
       "      <td>-157.0801</td>\n",
       "      <td>24.5832</td>\n",
       "      <td>34.9939</td>\n",
       "    </tr>\n",
       "    <tr>\n",
       "      <th>342</th>\n",
       "      <td>2023-02-25 04:23:02</td>\n",
       "      <td>21.2236</td>\n",
       "      <td>-157.0774</td>\n",
       "      <td>24.3960</td>\n",
       "      <td>34.9996</td>\n",
       "    </tr>\n",
       "  </tbody>\n",
       "</table>\n",
       "</div>"
      ],
      "text/plain": [
       "                   time      lat       lon     temp  salinity\n",
       "339 2023-02-25 04:20:02  21.2259 -157.0856  26.5682   34.8463\n",
       "340 2023-02-25 04:21:02  21.2251 -157.0827  25.0258   35.0090\n",
       "341 2023-02-25 04:22:02  21.2243 -157.0801  24.5832   34.9939\n",
       "342 2023-02-25 04:23:02  21.2236 -157.0774  24.3960   34.9996"
      ]
     },
     "execution_count": 31,
     "metadata": {},
     "output_type": "execute_result"
    }
   ],
   "source": [
    "underway.head(4)"
   ]
  },
  {
   "cell_type": "markdown",
   "metadata": {},
   "source": [
    "## Joining realtime_cmap and underway data into one dataframe"
   ]
  },
  {
   "cell_type": "markdown",
   "metadata": {},
   "source": [
    "### First we need to average underway data frame to an 10 min resolution"
   ]
  },
  {
   "cell_type": "code",
   "execution_count": 33,
   "metadata": {},
   "outputs": [
    {
     "data": {
      "text/plain": [
       "(2440, 4)"
      ]
     },
     "execution_count": 33,
     "metadata": {},
     "output_type": "execute_result"
    }
   ],
   "source": [
    "underway['time'] = pd.to_datetime(underway['time'])\n",
    "#this drops the phytoplankton population categorical column, need to recalulate\n",
    "underway_avg = underway.resample('10min', on='time').mean(numeric_only=True)\n",
    "underway_avg.shape"
   ]
  },
  {
   "cell_type": "markdown",
   "metadata": {},
   "source": [
    "### Now we can merge the underway CTD and Seaflow/CMAP data into one dataframe called TN413, after the cruise from which the observational data comes from."
   ]
  },
  {
   "cell_type": "code",
   "execution_count": 49,
   "metadata": {},
   "outputs": [],
   "source": [
    "realtime_cmap['time'] = pd.to_datetime(realtime_cmap['time'])\n",
    "tn413 = realtime_cmap.merge(underway_avg.drop(['lat','lon'], axis=1), left_on=['time'], right_on=['time'])"
   ]
  },
  {
   "cell_type": "code",
   "execution_count": 48,
   "metadata": {},
   "outputs": [
    {
     "data": {
      "text/html": [
       "<div>\n",
       "<style scoped>\n",
       "    .dataframe tbody tr th:only-of-type {\n",
       "        vertical-align: middle;\n",
       "    }\n",
       "\n",
       "    .dataframe tbody tr th {\n",
       "        vertical-align: top;\n",
       "    }\n",
       "\n",
       "    .dataframe thead th {\n",
       "        text-align: right;\n",
       "    }\n",
       "</style>\n",
       "<table border=\"1\" class=\"dataframe\">\n",
       "  <thead>\n",
       "    <tr style=\"text-align: right;\">\n",
       "      <th></th>\n",
       "      <th>population</th>\n",
       "      <th>time</th>\n",
       "      <th>lat</th>\n",
       "      <th>lon</th>\n",
       "      <th>abundance_cells_per_microliter</th>\n",
       "      <th>diameter_micrometer</th>\n",
       "      <th>depth</th>\n",
       "      <th>CMAP_NO3_tblPisces_Forecast_cl1</th>\n",
       "      <th>CMAP_PO4_tblPisces_Forecast_cl1</th>\n",
       "      <th>CMAP_Fe_tblPisces_Forecast_cl1</th>\n",
       "      <th>CMAP_Si_tblPisces_Forecast_cl1</th>\n",
       "      <th>CMAP_chl_tblPisces_Forecast_cl1</th>\n",
       "      <th>biomass</th>\n",
       "      <th>temp</th>\n",
       "      <th>salinity</th>\n",
       "    </tr>\n",
       "  </thead>\n",
       "  <tbody>\n",
       "    <tr>\n",
       "      <th>0</th>\n",
       "      <td>picoeuk</td>\n",
       "      <td>2023-02-25 05:40:00</td>\n",
       "      <td>21.3067</td>\n",
       "      <td>-157.036600</td>\n",
       "      <td>14.303231</td>\n",
       "      <td>1.557860</td>\n",
       "      <td>0.0</td>\n",
       "      <td>0.000562</td>\n",
       "      <td>0.212505</td>\n",
       "      <td>0.000433</td>\n",
       "      <td>2.092356</td>\n",
       "      <td>0.072018</td>\n",
       "      <td>6.716405</td>\n",
       "      <td>24.03829</td>\n",
       "      <td>34.93311</td>\n",
       "    </tr>\n",
       "    <tr>\n",
       "      <th>1</th>\n",
       "      <td>picoeuk</td>\n",
       "      <td>2023-02-25 05:50:00</td>\n",
       "      <td>21.3142</td>\n",
       "      <td>-157.032100</td>\n",
       "      <td>20.716981</td>\n",
       "      <td>1.576000</td>\n",
       "      <td>0.0</td>\n",
       "      <td>0.000562</td>\n",
       "      <td>0.212505</td>\n",
       "      <td>0.000433</td>\n",
       "      <td>2.092356</td>\n",
       "      <td>0.072018</td>\n",
       "      <td>10.023072</td>\n",
       "      <td>24.01350</td>\n",
       "      <td>34.92320</td>\n",
       "    </tr>\n",
       "    <tr>\n",
       "      <th>2</th>\n",
       "      <td>prochloro</td>\n",
       "      <td>2023-02-25 05:50:00</td>\n",
       "      <td>21.3141</td>\n",
       "      <td>-157.031633</td>\n",
       "      <td>64.269941</td>\n",
       "      <td>0.671474</td>\n",
       "      <td>0.0</td>\n",
       "      <td>0.000562</td>\n",
       "      <td>0.212505</td>\n",
       "      <td>0.000433</td>\n",
       "      <td>2.092356</td>\n",
       "      <td>0.072018</td>\n",
       "      <td>3.441297</td>\n",
       "      <td>24.01350</td>\n",
       "      <td>34.92320</td>\n",
       "    </tr>\n",
       "    <tr>\n",
       "      <th>3</th>\n",
       "      <td>picoeuk</td>\n",
       "      <td>2023-02-25 06:00:00</td>\n",
       "      <td>21.3123</td>\n",
       "      <td>-157.016800</td>\n",
       "      <td>22.590023</td>\n",
       "      <td>1.606258</td>\n",
       "      <td>0.0</td>\n",
       "      <td>0.000562</td>\n",
       "      <td>0.212505</td>\n",
       "      <td>0.000433</td>\n",
       "      <td>2.092356</td>\n",
       "      <td>0.072018</td>\n",
       "      <td>11.478879</td>\n",
       "      <td>23.98739</td>\n",
       "      <td>34.93976</td>\n",
       "    </tr>\n",
       "  </tbody>\n",
       "</table>\n",
       "</div>"
      ],
      "text/plain": [
       "  population                time      lat         lon  \\\n",
       "0    picoeuk 2023-02-25 05:40:00  21.3067 -157.036600   \n",
       "1    picoeuk 2023-02-25 05:50:00  21.3142 -157.032100   \n",
       "2  prochloro 2023-02-25 05:50:00  21.3141 -157.031633   \n",
       "3    picoeuk 2023-02-25 06:00:00  21.3123 -157.016800   \n",
       "\n",
       "   abundance_cells_per_microliter  diameter_micrometer  depth  \\\n",
       "0                       14.303231             1.557860    0.0   \n",
       "1                       20.716981             1.576000    0.0   \n",
       "2                       64.269941             0.671474    0.0   \n",
       "3                       22.590023             1.606258    0.0   \n",
       "\n",
       "   CMAP_NO3_tblPisces_Forecast_cl1  CMAP_PO4_tblPisces_Forecast_cl1  \\\n",
       "0                         0.000562                         0.212505   \n",
       "1                         0.000562                         0.212505   \n",
       "2                         0.000562                         0.212505   \n",
       "3                         0.000562                         0.212505   \n",
       "\n",
       "   CMAP_Fe_tblPisces_Forecast_cl1  CMAP_Si_tblPisces_Forecast_cl1  \\\n",
       "0                        0.000433                        2.092356   \n",
       "1                        0.000433                        2.092356   \n",
       "2                        0.000433                        2.092356   \n",
       "3                        0.000433                        2.092356   \n",
       "\n",
       "   CMAP_chl_tblPisces_Forecast_cl1    biomass      temp  salinity  \n",
       "0                         0.072018   6.716405  24.03829  34.93311  \n",
       "1                         0.072018  10.023072  24.01350  34.92320  \n",
       "2                         0.072018   3.441297  24.01350  34.92320  \n",
       "3                         0.072018  11.478879  23.98739  34.93976  "
      ]
     },
     "execution_count": 48,
     "metadata": {},
     "output_type": "execute_result"
    }
   ],
   "source": [
    "tn413.head(4)"
   ]
  },
  {
   "cell_type": "markdown",
   "metadata": {},
   "source": [
    "### Renaming Columns of both tn413 and covari dataframes so they're simpleier and the same."
   ]
  },
  {
   "cell_type": "code",
   "execution_count": 40,
   "metadata": {},
   "outputs": [],
   "source": [
    "#rename columns for the model\n",
    "\n",
    "tn413 = (tn413\n",
    "         .dropna()\n",
    "         .drop(['depth'], axis=1)\n",
    "         \n",
    "         .rename({'time':'date', 'population':'PopulationName','CMAP_NO3_tblPisces_Forecast_cl1': 'NO3NO2', 'CMAP_PO4_tblPisces_Forecast_cl1': 'PO4',\n",
    "             'CMAP_Fe_tblPisces_Forecast_cl1':'Fe', 'CMAP_Si_tblPisces_Forecast_cl1': 'SiO4',\n",
    "                  'CMAP_chl_tblPisces_Forecast_cl1': 'Satellite_CHL',\n",
    "                  'salinity':'salin', 'abundance_cells_per_microliter': 'cell_abundance',\n",
    "                  'diameter_micrometer':'cell_diameter'\n",
    "             \n",
    "         },axis=1)\n",
    "\n",
    "\n",
    "        )\n",
    "#rename columns for the model\n",
    "\n",
    "covari = (covari\n",
    "         .dropna()\n",
    "         .rename({'time':'date', 'population':'PopulationName','CMAP_NO3_tblPisces_NRT': 'NO3NO2', 'CMAP_PO4_tblPisces_NRT': 'PO4',\n",
    "             'CMAP_Fe_tblPisces_NRT':'Fe', 'CMAP_Si_tblPisces_NRT': 'SiO4',\n",
    "                  'CMAP_chl_tblPisces_Forecast_cl1': 'Satellite_CHL',\n",
    "                  'salinity':'salin', 'abundance_cells_per_microliter': 'cell_abundance',\n",
    "                  'CMAP_chl_tblPisces_NRT':'Satellite_CHL'\n",
    "             \n",
    "         },axis=1)\n",
    "        )\n",
    "#renaming these\n",
    "covari['PopulationName'] = covari['PopulationName'].replace(\n",
    "    {'nanoeukaryotes (2-5µm)': 'non_pro_syn', 'picoeukaryotes (< 2µm)': 'non_pro_syn'}\n",
    ")\n",
    "                            \n",
    "                       \n",
    "        \n",
    "covari.to_csv('/Users/cristianswift/Desktop/Spring-Quarter-2022-2023/SeniorThesis/data/covari_clean.csv')\n",
    "tn413.to_csv('/Users/cristianswift/Desktop/Spring-Quarter-2022-2023/SeniorThesis/data/TN413_merged_10min.csv', index=False)\n",
    "\n",
    "#renaming these\n",
    "covari['PopulationName'] = covari['PopulationName'].replace(\n",
    "    {'nanoeukaryotes (2-5µm)': 'non_pro_syn', 'picoeukaryotes (< 2µm)': 'non_pro_syn'}\n",
    ")"
   ]
  }
 ],
 "metadata": {
  "kernelspec": {
   "display_name": "Python 3 (ipykernel)",
   "language": "python",
   "name": "python3"
  },
  "language_info": {
   "codemirror_mode": {
    "name": "ipython",
    "version": 3
   },
   "file_extension": ".py",
   "mimetype": "text/x-python",
   "name": "python",
   "nbconvert_exporter": "python",
   "pygments_lexer": "ipython3",
   "version": "3.11.2"
  }
 },
 "nbformat": 4,
 "nbformat_minor": 4
}
